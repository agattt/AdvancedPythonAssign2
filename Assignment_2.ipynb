{
 "cells": [
  {
   "cell_type": "markdown",
   "id": "f080bf00",
   "metadata": {},
   "source": [
    "# Assignment 2.\n",
    "\n",
    "The file `tms_mapping.csv` contains results of TMS mapping of 10 participants' left hemisphere language areas. To perform the mapping a grid of targets was used, similar to this one:\n",
    "\n",
    "<img src=\"https://drive.google.com/uc?export=view&id=15fBf7Qk-f_tTb7pvyvn29MPWV4ZseCR9\" style=\"height: 200px; width: auto\">\n",
    "\n",
    "\n",
    "The mapping procedure was performed on 10 individuals. Thus, each of 10 grids (13 x 13 targets) contains individual responses to a single 10 Hz rTMS train. `1` means that the rTMS application to a particular site interfered with participant's speech; `0` means failure of any language interference.\n",
    "\n",
    "Your task is: \n",
    "1. To overlap all grids so that they represent probability (%) of speech interference in all sites - use NumPy array.\n",
    "2. To replace all subthreshold probabilities with `0` (as a threshold use 70% probability).\n",
    "3. To add **x** and **y** coordinates, so that the central point of the grid is represented as `x = 0` and `y = 0`:\n",
    "    * Add x axis (ranging from -6 to 6) on the top of the array\n",
    "    * Add y axis (ranging from -6 to 6) on the left side of the array<br><br>\n",
    "    \n",
    "   The final array should look like this:\n",
    "    \n",
    "    ```\n",
    "    [\n",
    "     [  0  -6  -5  -4  -3  -2  -1   0   1   2   3   4   5   6]\n",
    "     [ -6   0   0   0   0   0   0   0   0   0   0   0   0   0]\n",
    "     [ -5   0   0   0   0   0   0   0   0   0   0   0   0   0]\n",
    "     [ -4   0   0   0   0   0   0   0   0   0   0   0   0   0]\n",
    "     [ -3   0   0   0   0   0   0   0   0   0   0   0   0   0]\n",
    "     [ -2   0   0   0   0   0   0   0   0   0   0   0   0   0]\n",
    "     [ -1   0   0   0   0   0   0   0   0  70   0   0   0   0]\n",
    "     [  0   0   0   0   0   0   0  70  70  80  70   0   0   0]\n",
    "     [  1   0   0   0   0   0  70  70  90  90  90   0   0   0]\n",
    "     [  2   0   0  80  90   0  70  90  70  90 100  90   0   0]\n",
    "     [  3   0  90 100 100   0   0   0 100  90 100   0   0   0]\n",
    "     [  4   0   0 100   0  70  70   0  90  90   0  80   0   0]\n",
    "     [  5   0   0   0   0   0   0   0   0   0   0   0   0   0]\n",
    "     [  6   0   0   0   0   0   0   0   0   0   0   0   0   0]\n",
    "    ]\n",
    "    ```\n",
    "    \n",
    "4. To display coordinates of all sites/targets where probabilities were maximal as a table:\n",
    "\n",
    "    ```\n",
    "    Table 1. Coordinates of sites with highest probability of speech interference:\n",
    "\n",
    "    |______Nr_______|_______X_______|_______Y_______|_____Area______|\n",
    "    |       1       |       3       |       2       |   Wernicke    |\n",
    "    |       2       |      -4       |       3       |     Broca     |\n",
    "    |       3       |      -3       |       3       |     Broca     |\n",
    "    |       4       |       1       |       3       |   Wernicke    |\n",
    "    |       5       |       3       |       3       |   Wernicke    |\n",
    "    |       6       |      -4       |       4       |     Broca     |\n",
    "    ```\n",
    "\n",
    "    <br><br>For language areas use these coordinates:\n",
    "    1. **Broca's area** is defined as a rectangular area with coordinates:\n",
    "       - top left: x = -5, y = 2\n",
    "       - bottom right: x = -3, y = 4<br><br>\n",
    "    2. **Wernicke's area** is defined as a rectangular area with coordinates:\n",
    "       - top left: x = 1, y = 1\n",
    "       - bottom right: x = 3, y = 4<br><br>\n",
    "    \n",
    "HINTS:\n",
    "* In order to read the file directly to a NumPy array you may use: \n",
    "```python\n",
    "   my_array = np.genfromtxt(path_to_file, delimiter=';', dtype = int)\n",
    "```\n",
    "* Preview the CSV file and see how the data is arranged, before you start writing the code. You will probably have to slice the original array;\n",
    "* Array vectorization (scalar and array-array), aggregation methods, as well as boolean indexing will be very helpful;\n",
    "* To create a table, f-string will be ideal."
   ]
  },
  {
   "cell_type": "code",
   "execution_count": 212,
   "id": "c10e2972",
   "metadata": {},
   "outputs": [],
   "source": [
    "### Configure IPython shell to print all outputs generated in a code cell\n",
    "### --------------------------------------------------------------------------\n",
    "from IPython.core.interactiveshell import InteractiveShell\n",
    "InteractiveShell.ast_node_interactivity = \"all\"\n",
    "\n",
    "import numpy as np\n",
    "\n",
    "# this will ensure proper alignment of arrays in the output of jupyter notebook (without wrapping)\n",
    "np.set_printoptions(linewidth = 120)\n",
    "\n",
    "\n",
    "#============================== your code here: ==============================\n",
    "\n",
    "path_to_file = \"tms_mapping.csv\"\n",
    "\n",
    "my_array = np.genfromtxt(path_to_file, delimiter=';', dtype = int)\n",
    "\n",
    "broca_topleft = (-5, 2)\n",
    "\n",
    "broca_bottomright = (-3, 4)\n",
    "\n",
    "wernicke_topleft = (1, 1)\n",
    "\n",
    "wernicke_bottomright = (3, 4)\n",
    "\n",
    "grid_size = 13\n",
    "\n",
    "participants = 10\n",
    "\n",
    "#=============================================================================\n"
   ]
  },
  {
   "cell_type": "markdown",
   "source": [
    "## Probability (%) of speech interference in all sites\n",
    "\n",
    "### Data preparation\n",
    "\n",
    "Separating the data so that it is stored in a list containing\n",
    "numpy arrays of data gathered from single participant"
   ],
   "metadata": {
    "collapsed": false,
    "pycharm": {
     "name": "#%% md\n"
    }
   }
  },
  {
   "cell_type": "code",
   "execution_count": 213,
   "outputs": [
    {
     "data": {
      "text/plain": "[array([[0, 0, 0, 0, 0, 0, 0, 0, 0, 0, 0, 0, 0],\n        [0, 0, 0, 0, 0, 0, 0, 0, 0, 0, 0, 0, 0],\n        [0, 0, 0, 0, 0, 0, 0, 1, 0, 0, 0, 0, 0],\n        [0, 0, 0, 0, 0, 0, 0, 0, 0, 1, 0, 0, 0],\n        [0, 0, 0, 0, 0, 0, 1, 1, 1, 0, 0, 0, 0],\n        [0, 0, 0, 0, 0, 0, 1, 1, 1, 1, 0, 0, 0],\n        [0, 0, 0, 0, 0, 1, 1, 1, 1, 1, 0, 0, 0],\n        [0, 0, 0, 0, 1, 1, 1, 1, 1, 1, 0, 0, 0],\n        [0, 0, 1, 1, 0, 1, 1, 0, 1, 1, 1, 0, 0],\n        [0, 1, 1, 1, 0, 0, 1, 1, 1, 1, 0, 0, 0],\n        [0, 0, 1, 0, 1, 1, 0, 1, 1, 0, 1, 0, 0],\n        [0, 0, 0, 0, 0, 0, 0, 0, 0, 0, 0, 0, 0],\n        [0, 0, 0, 0, 0, 0, 0, 0, 0, 0, 0, 0, 0]]),\n array([[0, 0, 0, 0, 0, 0, 0, 0, 0, 0, 0, 0, 0],\n        [0, 0, 0, 0, 0, 0, 0, 0, 0, 0, 0, 0, 0],\n        [0, 0, 0, 0, 0, 0, 0, 0, 0, 0, 0, 0, 0],\n        [0, 0, 0, 0, 0, 0, 0, 0, 0, 1, 0, 0, 0],\n        [0, 0, 1, 0, 0, 0, 0, 1, 1, 0, 0, 0, 0],\n        [0, 0, 0, 0, 0, 0, 1, 0, 1, 0, 0, 0, 0],\n        [0, 0, 0, 0, 0, 0, 1, 0, 1, 0, 0, 0, 0],\n        [0, 0, 0, 1, 0, 1, 1, 1, 1, 1, 0, 0, 0],\n        [0, 0, 1, 1, 0, 0, 1, 1, 0, 1, 1, 0, 0],\n        [0, 1, 1, 1, 0, 0, 1, 1, 1, 1, 0, 0, 0],\n        [0, 0, 1, 0, 1, 1, 1, 1, 0, 0, 1, 0, 0],\n        [0, 0, 0, 0, 0, 0, 0, 0, 0, 0, 0, 0, 0],\n        [0, 0, 0, 0, 0, 0, 0, 0, 0, 0, 0, 0, 0]]),\n array([[0, 0, 0, 0, 0, 0, 0, 0, 0, 0, 0, 0, 0],\n        [0, 0, 0, 0, 0, 0, 0, 0, 0, 0, 0, 0, 0],\n        [0, 0, 0, 0, 0, 0, 0, 0, 0, 0, 0, 0, 0],\n        [0, 0, 0, 1, 0, 0, 0, 1, 0, 0, 0, 0, 0],\n        [0, 0, 0, 0, 0, 0, 1, 1, 1, 0, 0, 0, 0],\n        [0, 0, 1, 1, 0, 0, 1, 1, 1, 1, 0, 0, 0],\n        [0, 1, 0, 0, 0, 1, 1, 1, 1, 1, 0, 0, 0],\n        [0, 0, 0, 0, 1, 0, 1, 1, 1, 1, 0, 1, 0],\n        [0, 0, 0, 1, 0, 1, 1, 1, 1, 1, 1, 0, 0],\n        [0, 1, 1, 1, 0, 0, 0, 1, 1, 1, 0, 0, 0],\n        [0, 1, 1, 0, 1, 0, 1, 1, 1, 0, 1, 0, 0],\n        [0, 0, 0, 0, 0, 0, 0, 0, 0, 0, 0, 0, 0],\n        [0, 0, 0, 0, 0, 0, 0, 0, 0, 0, 0, 0, 0]]),\n array([[0, 0, 0, 0, 0, 0, 0, 0, 0, 0, 0, 0, 0],\n        [0, 0, 0, 0, 0, 0, 0, 0, 0, 0, 0, 0, 0],\n        [0, 1, 0, 0, 0, 0, 1, 1, 0, 0, 0, 0, 0],\n        [0, 0, 0, 0, 0, 0, 0, 0, 0, 0, 1, 0, 0],\n        [0, 0, 0, 0, 0, 0, 1, 0, 1, 0, 0, 0, 0],\n        [0, 0, 0, 1, 0, 1, 1, 1, 0, 1, 1, 0, 0],\n        [1, 0, 0, 0, 0, 1, 1, 1, 1, 1, 0, 0, 0],\n        [0, 0, 0, 0, 0, 1, 0, 1, 1, 1, 0, 0, 0],\n        [0, 0, 1, 1, 0, 0, 1, 1, 1, 1, 1, 0, 0],\n        [0, 1, 1, 1, 0, 0, 0, 1, 0, 1, 1, 0, 0],\n        [0, 1, 1, 1, 1, 0, 0, 1, 1, 0, 0, 0, 0],\n        [0, 0, 0, 0, 0, 0, 0, 0, 0, 0, 1, 0, 0],\n        [0, 0, 0, 0, 0, 0, 0, 0, 0, 0, 0, 0, 0]]),\n array([[0, 0, 0, 0, 0, 0, 0, 0, 0, 0, 0, 0, 0],\n        [0, 0, 0, 0, 0, 0, 0, 0, 0, 0, 0, 0, 0],\n        [0, 0, 0, 0, 0, 0, 0, 1, 0, 0, 0, 0, 0],\n        [0, 0, 0, 0, 0, 0, 0, 0, 0, 1, 0, 0, 0],\n        [0, 0, 1, 0, 0, 0, 1, 0, 1, 0, 0, 0, 0],\n        [0, 0, 0, 0, 0, 0, 0, 1, 1, 1, 0, 0, 0],\n        [0, 1, 0, 0, 0, 1, 0, 1, 1, 1, 0, 1, 0],\n        [0, 0, 1, 0, 1, 0, 0, 0, 1, 1, 0, 0, 0],\n        [0, 1, 1, 1, 1, 0, 1, 1, 1, 1, 1, 0, 0],\n        [0, 1, 1, 1, 0, 0, 0, 1, 1, 1, 1, 0, 0],\n        [1, 1, 1, 1, 1, 1, 0, 1, 1, 1, 0, 1, 0],\n        [0, 1, 0, 0, 0, 0, 0, 0, 0, 0, 1, 1, 0],\n        [0, 0, 0, 0, 0, 0, 0, 0, 0, 0, 0, 0, 0]]),\n array([[0, 0, 0, 0, 0, 0, 0, 0, 0, 0, 0, 0, 0],\n        [0, 0, 0, 0, 0, 0, 0, 0, 0, 0, 0, 0, 0],\n        [0, 0, 0, 0, 1, 1, 0, 0, 0, 0, 0, 0, 0],\n        [0, 0, 0, 0, 0, 0, 0, 0, 0, 1, 0, 0, 0],\n        [0, 0, 0, 0, 0, 0, 0, 1, 1, 0, 0, 0, 0],\n        [0, 0, 0, 0, 0, 0, 0, 0, 0, 0, 0, 0, 0],\n        [0, 0, 0, 0, 0, 1, 1, 1, 1, 1, 0, 0, 0],\n        [0, 1, 0, 0, 1, 1, 1, 1, 1, 1, 0, 0, 0],\n        [0, 1, 1, 1, 1, 1, 0, 1, 1, 1, 1, 0, 0],\n        [0, 1, 1, 1, 0, 0, 0, 1, 1, 1, 1, 0, 0],\n        [0, 0, 1, 0, 1, 1, 0, 1, 1, 1, 1, 0, 0],\n        [0, 0, 0, 0, 0, 0, 0, 0, 0, 1, 0, 0, 0],\n        [0, 0, 0, 0, 0, 0, 0, 0, 0, 0, 0, 0, 0]]),\n array([[0, 0, 0, 0, 0, 0, 0, 0, 0, 0, 0, 0, 0],\n        [0, 0, 0, 0, 0, 0, 0, 0, 0, 0, 0, 0, 0],\n        [0, 1, 0, 0, 1, 0, 0, 0, 0, 0, 0, 0, 0],\n        [0, 0, 0, 0, 0, 0, 0, 0, 0, 0, 0, 0, 0],\n        [0, 1, 1, 0, 0, 0, 0, 0, 0, 0, 0, 0, 0],\n        [0, 0, 0, 1, 0, 0, 0, 0, 1, 1, 0, 0, 0],\n        [0, 0, 0, 0, 0, 1, 1, 0, 1, 1, 0, 0, 0],\n        [0, 0, 0, 0, 1, 1, 1, 1, 1, 0, 0, 0, 0],\n        [0, 1, 1, 0, 0, 1, 1, 1, 1, 1, 0, 0, 0],\n        [0, 0, 1, 1, 0, 0, 0, 1, 1, 1, 1, 0, 0],\n        [0, 0, 1, 0, 0, 1, 0, 1, 1, 0, 1, 0, 0],\n        [0, 0, 0, 0, 0, 0, 0, 0, 0, 0, 0, 0, 0],\n        [0, 0, 0, 0, 0, 0, 0, 0, 0, 0, 0, 0, 0]]),\n array([[0, 0, 0, 0, 0, 0, 0, 0, 0, 0, 0, 0, 0],\n        [0, 0, 0, 0, 0, 0, 0, 0, 0, 0, 0, 0, 0],\n        [0, 0, 0, 0, 1, 0, 0, 1, 1, 1, 0, 0, 0],\n        [0, 0, 0, 0, 0, 0, 0, 0, 0, 0, 1, 0, 0],\n        [0, 0, 0, 1, 0, 0, 0, 0, 0, 0, 0, 0, 0],\n        [0, 0, 0, 0, 0, 0, 0, 0, 1, 0, 0, 0, 0],\n        [0, 0, 0, 0, 0, 0, 1, 1, 0, 1, 0, 0, 0],\n        [0, 0, 1, 0, 1, 0, 0, 1, 1, 1, 0, 0, 0],\n        [0, 0, 1, 1, 0, 1, 1, 1, 1, 1, 1, 0, 0],\n        [0, 1, 1, 1, 0, 0, 1, 1, 1, 1, 0, 0, 0],\n        [1, 0, 1, 0, 1, 0, 0, 1, 1, 0, 1, 0, 0],\n        [1, 0, 0, 0, 0, 0, 0, 0, 0, 0, 0, 0, 0],\n        [0, 0, 0, 0, 0, 0, 0, 0, 0, 0, 0, 0, 0]]),\n array([[0, 0, 0, 0, 1, 0, 0, 0, 0, 0, 0, 0, 0],\n        [0, 0, 1, 0, 0, 0, 0, 0, 0, 0, 0, 0, 0],\n        [0, 0, 0, 0, 0, 0, 0, 1, 0, 0, 0, 1, 0],\n        [0, 0, 1, 0, 0, 0, 0, 0, 0, 0, 0, 0, 0],\n        [0, 0, 0, 0, 0, 0, 0, 0, 0, 0, 0, 0, 0],\n        [0, 1, 0, 1, 1, 0, 0, 1, 0, 0, 0, 0, 0],\n        [0, 0, 0, 0, 0, 0, 0, 1, 1, 0, 0, 0, 0],\n        [0, 0, 0, 0, 0, 1, 1, 1, 1, 1, 0, 0, 0],\n        [0, 1, 0, 1, 0, 1, 1, 0, 1, 1, 1, 0, 0],\n        [0, 1, 1, 1, 0, 0, 0, 1, 1, 1, 1, 0, 0],\n        [0, 0, 1, 0, 0, 1, 0, 0, 1, 1, 1, 0, 0],\n        [0, 0, 0, 0, 0, 0, 0, 0, 0, 0, 0, 1, 0],\n        [0, 0, 0, 0, 0, 0, 0, 0, 0, 0, 0, 0, 0]]),\n array([[0, 0, 0, 0, 0, 0, 0, 0, 0, 0, 0, 0, 0],\n        [0, 0, 0, 0, 0, 1, 0, 0, 0, 0, 0, 0, 0],\n        [0, 0, 0, 0, 1, 0, 0, 1, 0, 0, 0, 0, 0],\n        [0, 0, 0, 0, 0, 0, 0, 0, 0, 0, 0, 0, 0],\n        [0, 0, 1, 0, 0, 0, 0, 0, 0, 1, 1, 0, 0],\n        [0, 0, 0, 1, 0, 0, 1, 1, 1, 1, 1, 0, 0],\n        [0, 0, 0, 0, 0, 0, 0, 0, 0, 0, 1, 0, 0],\n        [0, 0, 0, 0, 0, 1, 1, 1, 0, 1, 1, 0, 0],\n        [0, 1, 1, 1, 0, 1, 1, 0, 1, 1, 1, 0, 0],\n        [0, 1, 1, 1, 1, 0, 0, 1, 1, 1, 0, 0, 0],\n        [0, 0, 1, 1, 0, 1, 0, 1, 1, 1, 1, 0, 0],\n        [0, 0, 0, 0, 0, 0, 0, 0, 0, 0, 0, 0, 0],\n        [0, 0, 0, 0, 0, 0, 0, 0, 0, 0, 0, 0, 0]])]"
     },
     "execution_count": 213,
     "metadata": {},
     "output_type": "execute_result"
    }
   ],
   "source": [
    "def slice_matrix(sample_size, init_array, array_size):\n",
    "\n",
    "    \"\"\"\n",
    "    :param sample_size: number of participants\n",
    "    :param init_array: array which stores data gathered from all participants\n",
    "    :param array_size: size of the grid\n",
    "    :return: list or arrays where each array consists of data from one participant\n",
    "    \"\"\"\n",
    "\n",
    "    step = array_size + 1\n",
    "\n",
    "    sliced_data = []\n",
    "\n",
    "    for i in range(sample_size):\n",
    "\n",
    "        sliced_data.append(init_array[ (1 + step * i ) : step + step * i, :])\n",
    "\n",
    "    return sliced_data\n",
    "\n",
    "\n",
    "data = slice_matrix(participants, my_array, grid_size)\n",
    "\n",
    "\n",
    "data"
   ],
   "metadata": {
    "collapsed": false,
    "pycharm": {
     "name": "#%%\n"
    }
   }
  },
  {
   "cell_type": "markdown",
   "source": [
    "Overlapping all the arrays into one array in which a value at a\n",
    "given point is a sum of all the values at that point across all\n",
    "the arrays"
   ],
   "metadata": {
    "collapsed": false,
    "pycharm": {
     "name": "#%% md\n"
    }
   }
  },
  {
   "cell_type": "code",
   "execution_count": 214,
   "outputs": [
    {
     "data": {
      "text/plain": "array([[ 0,  0,  0,  0,  1,  0,  0,  0,  0,  0,  0,  0,  0],\n       [ 0,  0,  1,  0,  0,  1,  0,  0,  0,  0,  0,  0,  0],\n       [ 0,  2,  0,  0,  4,  1,  1,  6,  1,  1,  0,  1,  0],\n       [ 0,  0,  1,  1,  0,  0,  0,  1,  0,  4,  2,  0,  0],\n       [ 0,  1,  4,  1,  0,  0,  4,  4,  6,  1,  1,  0,  0],\n       [ 0,  1,  1,  5,  1,  1,  5,  6,  7,  6,  2,  0,  0],\n       [ 1,  2,  0,  0,  0,  6,  7,  7,  8,  7,  1,  1,  0],\n       [ 0,  1,  2,  1,  6,  7,  7,  9,  9,  9,  1,  1,  0],\n       [ 0,  5,  8,  9,  2,  7,  9,  7,  9, 10,  9,  0,  0],\n       [ 0,  9, 10, 10,  1,  0,  3, 10,  9, 10,  5,  0,  0],\n       [ 2,  3, 10,  3,  7,  7,  2,  9,  9,  4,  8,  1,  0],\n       [ 1,  1,  0,  0,  0,  0,  0,  0,  0,  1,  2,  2,  0],\n       [ 0,  0,  0,  0,  0,  0,  0,  0,  0,  0,  0,  0,  0]])"
     },
     "execution_count": 214,
     "metadata": {},
     "output_type": "execute_result"
    }
   ],
   "source": [
    "def sum_arrays(data_lst, array_size):\n",
    "\n",
    "    \"\"\"\n",
    "    :param data_lst: a list containing numpy arrays with the data\n",
    "    :param array_size: size of the grid\n",
    "    :return: a 2D numpy array, where all the arrays passed are summed into one\n",
    "    \"\"\"\n",
    "\n",
    "    sol = np.zeros( (array_size, array_size) )\n",
    "\n",
    "    for elt in data_lst:\n",
    "\n",
    "        sol += elt\n",
    "\n",
    "    return sol.astype(int)\n",
    "\n",
    "\n",
    "data = sum_arrays(data, grid_size)\n",
    "\n",
    "data\n"
   ],
   "metadata": {
    "collapsed": false,
    "pycharm": {
     "name": "#%%\n"
    }
   }
  },
  {
   "cell_type": "markdown",
   "source": [
    "### Calculating the probability\n",
    "\n",
    "Calculating the probability of an inference occurring across all points of the grid"
   ],
   "metadata": {
    "collapsed": false,
    "pycharm": {
     "name": "#%% md\n"
    }
   }
  },
  {
   "cell_type": "code",
   "execution_count": 215,
   "outputs": [
    {
     "data": {
      "text/plain": "array([[  0,   0,   0,   0,  10,   0,   0,   0,   0,   0,   0,   0,   0],\n       [  0,   0,  10,   0,   0,  10,   0,   0,   0,   0,   0,   0,   0],\n       [  0,  20,   0,   0,  40,  10,  10,  60,  10,  10,   0,  10,   0],\n       [  0,   0,  10,  10,   0,   0,   0,  10,   0,  40,  20,   0,   0],\n       [  0,  10,  40,  10,   0,   0,  40,  40,  60,  10,  10,   0,   0],\n       [  0,  10,  10,  50,  10,  10,  50,  60,  70,  60,  20,   0,   0],\n       [ 10,  20,   0,   0,   0,  60,  70,  70,  80,  70,  10,  10,   0],\n       [  0,  10,  20,  10,  60,  70,  70,  90,  90,  90,  10,  10,   0],\n       [  0,  50,  80,  90,  20,  70,  90,  70,  90, 100,  90,   0,   0],\n       [  0,  90, 100, 100,  10,   0,  30, 100,  90, 100,  50,   0,   0],\n       [ 20,  30, 100,  30,  70,  70,  20,  90,  90,  40,  80,  10,   0],\n       [ 10,  10,   0,   0,   0,   0,   0,   0,   0,  10,  20,  20,   0],\n       [  0,   0,   0,   0,   0,   0,   0,   0,   0,   0,   0,   0,   0]])"
     },
     "execution_count": 215,
     "metadata": {},
     "output_type": "execute_result"
    }
   ],
   "source": [
    "def calc_prob(data_array, sample_size):\n",
    "\n",
    "    \"\"\"\n",
    "    :param data_array: numpy array with the stored data\n",
    "    :param sample_size: number of participants\n",
    "    :return:\n",
    "    \"\"\"\n",
    "\n",
    "    return ( ( data_array / sample_size ) * 100 ).astype(int)\n",
    "\n",
    "\n",
    "data = calc_prob(data, participants)\n",
    "\n",
    "data"
   ],
   "metadata": {
    "collapsed": false,
    "pycharm": {
     "name": "#%%\n"
    }
   }
  },
  {
   "cell_type": "markdown",
   "source": [
    "Filtering out the probability values below 70 (threshold)"
   ],
   "metadata": {
    "collapsed": false,
    "pycharm": {
     "name": "#%% md\n"
    }
   }
  },
  {
   "cell_type": "code",
   "execution_count": 216,
   "outputs": [
    {
     "data": {
      "text/plain": "array([[  0,   0,   0,   0,   0,   0,   0,   0,   0,   0,   0,   0,   0],\n       [  0,   0,   0,   0,   0,   0,   0,   0,   0,   0,   0,   0,   0],\n       [  0,   0,   0,   0,   0,   0,   0,   0,   0,   0,   0,   0,   0],\n       [  0,   0,   0,   0,   0,   0,   0,   0,   0,   0,   0,   0,   0],\n       [  0,   0,   0,   0,   0,   0,   0,   0,   0,   0,   0,   0,   0],\n       [  0,   0,   0,   0,   0,   0,   0,   0,  70,   0,   0,   0,   0],\n       [  0,   0,   0,   0,   0,   0,  70,  70,  80,  70,   0,   0,   0],\n       [  0,   0,   0,   0,   0,  70,  70,  90,  90,  90,   0,   0,   0],\n       [  0,   0,  80,  90,   0,  70,  90,  70,  90, 100,  90,   0,   0],\n       [  0,  90, 100, 100,   0,   0,   0, 100,  90, 100,   0,   0,   0],\n       [  0,   0, 100,   0,  70,  70,   0,  90,  90,   0,  80,   0,   0],\n       [  0,   0,   0,   0,   0,   0,   0,   0,   0,   0,   0,   0,   0],\n       [  0,   0,   0,   0,   0,   0,   0,   0,   0,   0,   0,   0,   0]])"
     },
     "execution_count": 216,
     "metadata": {},
     "output_type": "execute_result"
    }
   ],
   "source": [
    "data[data < 70] = 0\n",
    "\n",
    "data"
   ],
   "metadata": {
    "collapsed": false,
    "pycharm": {
     "name": "#%%\n"
    }
   }
  },
  {
   "cell_type": "markdown",
   "source": [
    "### Adding x and y coordinates to the grid\n",
    "\n",
    "According to what was shown in the example\n",
    "(I don't understand why the y-axis is reversed so that negative\n",
    "values are on top)"
   ],
   "metadata": {
    "collapsed": false,
    "pycharm": {
     "name": "#%% md\n"
    }
   }
  },
  {
   "cell_type": "code",
   "execution_count": 217,
   "outputs": [
    {
     "data": {
      "text/plain": "array([[  0,  -6,  -5,  -4,  -3,  -2,  -1,   0,   1,   2,   3,   4,   5,   6],\n       [ -6,   0,   0,   0,   0,   0,   0,   0,   0,   0,   0,   0,   0,   0],\n       [ -5,   0,   0,   0,   0,   0,   0,   0,   0,   0,   0,   0,   0,   0],\n       [ -4,   0,   0,   0,   0,   0,   0,   0,   0,   0,   0,   0,   0,   0],\n       [ -3,   0,   0,   0,   0,   0,   0,   0,   0,   0,   0,   0,   0,   0],\n       [ -2,   0,   0,   0,   0,   0,   0,   0,   0,   0,   0,   0,   0,   0],\n       [ -1,   0,   0,   0,   0,   0,   0,   0,   0,  70,   0,   0,   0,   0],\n       [  0,   0,   0,   0,   0,   0,   0,  70,  70,  80,  70,   0,   0,   0],\n       [  1,   0,   0,   0,   0,   0,  70,  70,  90,  90,  90,   0,   0,   0],\n       [  2,   0,   0,  80,  90,   0,  70,  90,  70,  90, 100,  90,   0,   0],\n       [  3,   0,  90, 100, 100,   0,   0,   0, 100,  90, 100,   0,   0,   0],\n       [  4,   0,   0, 100,   0,  70,  70,   0,  90,  90,   0,  80,   0,   0],\n       [  5,   0,   0,   0,   0,   0,   0,   0,   0,   0,   0,   0,   0,   0],\n       [  6,   0,   0,   0,   0,   0,   0,   0,   0,   0,   0,   0,   0,   0]])"
     },
     "execution_count": 217,
     "metadata": {},
     "output_type": "execute_result"
    }
   ],
   "source": [
    "def add_index(data_array, array_size):\n",
    "\n",
    "    \"\"\"\n",
    "    :param data_array: numpy array with the stored data\n",
    "    :param array_size: size of the grid\n",
    "    :return: a numpy array with added x and y coordinates\n",
    "    \"\"\"\n",
    "\n",
    "    start, end = 0, 0\n",
    "\n",
    "    rows, columns = np.empty(0), np.empty(0)\n",
    "\n",
    "    if array_size % 2 == 0:\n",
    "\n",
    "        start = 0 - array_size/2\n",
    "\n",
    "        end = array_size/2\n",
    "\n",
    "        columns = np.concatenate( (np.arange(start, 0), np.arange( 1, end + 1) ) )\n",
    "\n",
    "        rows = np.insert( columns, 0, 0 ).reshape(grid_size + 1, 1)\n",
    "\n",
    "    else:\n",
    "\n",
    "        start = 0 - ( array_size - 1 ) / 2\n",
    "\n",
    "        end = ( array_size - 1 ) / 2\n",
    "\n",
    "        columns = np.arange(start, end + 1, 1)\n",
    "\n",
    "        rows = np.insert( columns, 0, 0 ).reshape(grid_size + 1, 1)\n",
    "\n",
    "    sol = np.vstack( (columns, data_array) )\n",
    "\n",
    "    sol = np.hstack( (rows, sol) )\n",
    "\n",
    "    return sol.astype(int)\n",
    "\n",
    "\n",
    "data = add_index(data, grid_size)\n",
    "\n",
    "data"
   ],
   "metadata": {
    "collapsed": false,
    "pycharm": {
     "name": "#%%\n"
    }
   }
  },
  {
   "cell_type": "markdown",
   "source": [
    "### Displaying coordinates where probabilities were maximal"
   ],
   "metadata": {
    "collapsed": false,
    "pycharm": {
     "name": "#%% md\n"
    }
   }
  },
  {
   "cell_type": "code",
   "execution_count": 218,
   "outputs": [
    {
     "name": "stdout",
     "output_type": "stream",
     "text": [
      " Table 1. Coordinates of sites with highest probability of speech interference:\n",
      "|_______Nr________|________X________|________Y________|______Area_______|\n",
      "|________1________|________3________|________2________|____Wernicke_____|\n",
      "|________2________|_______-4________|________3________|______Broca______|\n",
      "|________3________|_______-3________|________3________|______Broca______|\n",
      "|________4________|________1________|________3________|____Wernicke_____|\n",
      "|________5________|________3________|________3________|____Wernicke_____|\n",
      "|________6________|_______-4________|________4________|______Broca______|\n"
     ]
    }
   ],
   "source": [
    "coordinates = np.where(data == 100)\n",
    "\n",
    "coordinates_zipped = (zip(coordinates[0], coordinates[1]))\n",
    "\n",
    "header = [\"Nr\", \"X\", \"Y\", \"Area\"]\n",
    "\n",
    "def wernicke_or_broca(x, y, data_array):\n",
    "\n",
    "    \"\"\"\n",
    "    :param x: x coordinate of a point\n",
    "    :param y: y coordinate of a point\n",
    "    :param data_array: numpy array with the stored data\n",
    "    :return: Broca if a point is within Broca's area, Wernicke if a\n",
    "    point is within Wetnicke's area or else an empty string\n",
    "    \"\"\"\n",
    "\n",
    "    if data_array[0, y] in range(broca_topleft[0], broca_bottomright[0] + 1) and \\\n",
    "            data_array[x, 0] in range(broca_topleft[1], broca_bottomright[1] + 1):\n",
    "\n",
    "        return \"Broca\"\n",
    "\n",
    "    elif data_array[0, y] in range(wernicke_topleft[0], wernicke_bottomright[0] + 1) and \\\n",
    "            data_array[x, 0] in range(wernicke_topleft[1], wernicke_bottomright[1] + 1):\n",
    "\n",
    "        return \"Wernicke\"\n",
    "\n",
    "    else:\n",
    "\n",
    "        return \"\"\n",
    "\n",
    "\n",
    "def print_table(data_array):\n",
    "\n",
    "    \"\"\"\n",
    "    :param data_array: numpy array with the stored data\n",
    "    :return: prints out the solution in a table-like format\n",
    "    \"\"\"\n",
    "\n",
    "    print(\" Table 1. Coordinates of sites with highest probability of speech interference:\")\n",
    "\n",
    "    print(f\"|{header[0]:_^17}|{header[1]:_^17}|{header[2]:_^17}|{header[3]:_^17}|\")\n",
    "\n",
    "    i = 1\n",
    "\n",
    "    for elt in coordinates_zipped:\n",
    "\n",
    "        area = wernicke_or_broca(elt[0], elt[1], data_array)\n",
    "\n",
    "        if area != \"\":\n",
    "\n",
    "            print(f\"|{i:_^17}|{elt[1] - 7:_^17}|{elt[0] - 7:_^17}|{area:_^17}|\")\n",
    "\n",
    "            i += 1\n",
    "\n",
    "print_table(data)\n"
   ],
   "metadata": {
    "collapsed": false,
    "pycharm": {
     "name": "#%%\n"
    }
   }
  }
 ],
 "metadata": {
  "kernelspec": {
   "display_name": "Python 3 (ipykernel)",
   "language": "python",
   "name": "python3"
  },
  "language_info": {
   "codemirror_mode": {
    "name": "ipython",
    "version": 3
   },
   "file_extension": ".py",
   "mimetype": "text/x-python",
   "name": "python",
   "nbconvert_exporter": "python",
   "pygments_lexer": "ipython3",
   "version": "3.8.13"
  }
 },
 "nbformat": 4,
 "nbformat_minor": 5
}